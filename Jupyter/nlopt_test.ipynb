{
 "cells": [
  {
   "cell_type": "markdown",
   "metadata": {},
   "source": [
    "# Test of the package ipynb\n",
    "\n",
    "We make a simple test of this package to learn how does it works."
   ]
  },
  {
   "cell_type": "code",
   "execution_count": 1,
   "metadata": {},
   "outputs": [],
   "source": [
    "import nlopt\n",
    "import math\n",
    "import numpy as np"
   ]
  },
  {
   "cell_type": "code",
   "execution_count": 2,
   "metadata": {},
   "outputs": [
    {
     "name": "stdout",
     "output_type": "stream",
     "text": [
      "optimum at  0.3333333346933468 0.29629628940318486\n",
      "minimum value =  0.5443310476200902\n",
      "result code =  4\n"
     ]
    }
   ],
   "source": [
    "def myfunc(x, grad):\n",
    "    if grad.size > 0:\n",
    "        grad[0] = 0.0\n",
    "        grad[1] = 0.5 / math.sqrt(x[1])\n",
    "    return math.sqrt(x[1])\n",
    "\n",
    "def myconstraint(x, grad, a, b):\n",
    "    if grad.size > 0:\n",
    "        grad[0] = 3 * a * (a*x[0] + b)**2\n",
    "        grad[1] = -1.0\n",
    "    return (a*x[0] + b)**3 - x[1]\n",
    "\n",
    "\n",
    "opt = nlopt.opt(nlopt.LD_MMA, 2)\n",
    "opt.set_lower_bounds([-float('inf'), 0])\n",
    "opt.set_min_objective(myfunc)\n",
    "opt.add_inequality_constraint(lambda x,grad: myconstraint(x,grad,2,0), 1e-8)\n",
    "opt.add_inequality_constraint(lambda x,grad: myconstraint(x,grad,-1,1), 1e-8)\n",
    "opt.set_xtol_rel(1e-4)\n",
    "x = opt.optimize([1.234, 5.678])\n",
    "minf = opt.last_optimum_value()\n",
    "print(\"optimum at \", x[0], x[1])\n",
    "print(\"minimum value = \", minf)\n",
    "print(\"result code = \", opt.last_optimize_result())\n"
   ]
  },
  {
   "cell_type": "code",
   "execution_count": 2,
   "metadata": {},
   "outputs": [
    {
     "ename": "TypeError",
     "evalue": "<lambda>() takes 1 positional argument but 2 were given",
     "output_type": "error",
     "traceback": [
      "\u001b[0;31m---------------------------------------------------------------------------\u001b[0m",
      "\u001b[0;31mTypeError\u001b[0m                                 Traceback (most recent call last)",
      "Cell \u001b[0;32mIn[2], line 14\u001b[0m\n\u001b[1;32m     12\u001b[0m opt\u001b[38;5;241m.\u001b[39madd_inequality_constraint(\u001b[38;5;28;01mlambda\u001b[39;00m x: myconstraint(x,\u001b[38;5;241m-\u001b[39m\u001b[38;5;241m1\u001b[39m,\u001b[38;5;241m1\u001b[39m), \u001b[38;5;241m1e-8\u001b[39m)\n\u001b[1;32m     13\u001b[0m opt\u001b[38;5;241m.\u001b[39mset_xtol_rel(\u001b[38;5;241m1e-4\u001b[39m)\n\u001b[0;32m---> 14\u001b[0m x \u001b[38;5;241m=\u001b[39m \u001b[43mopt\u001b[49m\u001b[38;5;241;43m.\u001b[39;49m\u001b[43moptimize\u001b[49m\u001b[43m(\u001b[49m\u001b[43m[\u001b[49m\u001b[38;5;241;43m103\u001b[39;49m\u001b[43m,\u001b[49m\u001b[43m \u001b[49m\u001b[38;5;241;43m88\u001b[39;49m\u001b[43m]\u001b[49m\u001b[43m)\u001b[49m\n\u001b[1;32m     15\u001b[0m minf \u001b[38;5;241m=\u001b[39m opt\u001b[38;5;241m.\u001b[39mlast_optimum_value()\n\u001b[1;32m     16\u001b[0m \u001b[38;5;28mprint\u001b[39m(\u001b[38;5;124m\"\u001b[39m\u001b[38;5;124moptimum at \u001b[39m\u001b[38;5;124m\"\u001b[39m, x[\u001b[38;5;241m0\u001b[39m], x[\u001b[38;5;241m1\u001b[39m])\n",
      "File \u001b[0;32m~/miniconda3/envs/lal/lib/python3.10/site-packages/nlopt/nlopt.py:454\u001b[0m, in \u001b[0;36mopt.optimize\u001b[0;34m(self, *args)\u001b[0m\n\u001b[1;32m    453\u001b[0m \u001b[38;5;28;01mdef\u001b[39;00m \u001b[38;5;21moptimize\u001b[39m(\u001b[38;5;28mself\u001b[39m, \u001b[38;5;241m*\u001b[39margs):\n\u001b[0;32m--> 454\u001b[0m     \u001b[38;5;28;01mreturn\u001b[39;00m \u001b[43m_nlopt\u001b[49m\u001b[38;5;241;43m.\u001b[39;49m\u001b[43mopt_optimize\u001b[49m\u001b[43m(\u001b[49m\u001b[38;5;28;43mself\u001b[39;49m\u001b[43m,\u001b[49m\u001b[43m \u001b[49m\u001b[38;5;241;43m*\u001b[39;49m\u001b[43margs\u001b[49m\u001b[43m)\u001b[49m\n",
      "\u001b[0;31mTypeError\u001b[0m: <lambda>() takes 1 positional argument but 2 were given"
     ]
    }
   ],
   "source": [
    "def myfunc(x,grad):\n",
    "    return math.sqrt(x[1])\n",
    "\n",
    "\n",
    "def myconstraint(x, a, b):\n",
    "    return (a*x[0] + b)**3 - x[1]\n",
    "\n",
    "opt = nlopt.opt(nlopt.LN_COBYLA, 2)\n",
    "opt.set_lower_bounds([-float('inf'), 0])\n",
    "opt.set_min_objective(myfunc)\n",
    "opt.add_inequality_constraint(lambda x: myconstraint(x,2,0), 1e-8)\n",
    "opt.add_inequality_constraint(lambda x: myconstraint(x,-1,1), 1e-8)\n",
    "opt.set_xtol_rel(1e-4)\n",
    "x = opt.optimize([103, 88])\n",
    "minf = opt.last_optimum_value()\n",
    "print(\"optimum at \", x[0], x[1])\n",
    "print(\"minimum value = \", minf)\n",
    "print(\"result code = \", opt.last_optimize_result())"
   ]
  },
  {
   "cell_type": "code",
   "execution_count": null,
   "metadata": {},
   "outputs": [],
   "source": []
  },
  {
   "cell_type": "code",
   "execution_count": null,
   "metadata": {},
   "outputs": [],
   "source": []
  }
 ],
 "metadata": {
  "kernelspec": {
   "display_name": "lal",
   "language": "python",
   "name": "python3"
  },
  "language_info": {
   "codemirror_mode": {
    "name": "ipython",
    "version": 3
   },
   "file_extension": ".py",
   "mimetype": "text/x-python",
   "name": "python",
   "nbconvert_exporter": "python",
   "pygments_lexer": "ipython3",
   "version": "3.10.15"
  }
 },
 "nbformat": 4,
 "nbformat_minor": 2
}
